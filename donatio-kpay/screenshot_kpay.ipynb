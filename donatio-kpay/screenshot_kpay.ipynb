{
 "cells": [
  {
   "cell_type": "code",
   "execution_count": 1,
   "id": "e929872f",
   "metadata": {},
   "outputs": [],
   "source": [
    "import os \n",
    "\n",
    "os.chdir(\"D:\\\\donatio-AI\\\\src\\\\kpay_detect\\\\data\")"
   ]
  },
  {
   "cell_type": "code",
   "execution_count": 2,
   "id": "be1a37e0",
   "metadata": {},
   "outputs": [
    {
     "data": {
      "text/plain": [
       "'D:\\\\donatio-AI\\\\src\\\\kpay_detect\\\\data'"
      ]
     },
     "execution_count": 2,
     "metadata": {},
     "output_type": "execute_result"
    }
   ],
   "source": [
    "os.getcwd()"
   ]
  },
  {
   "cell_type": "code",
   "execution_count": 4,
   "id": "9de13d91",
   "metadata": {},
   "outputs": [
    {
     "name": "stdout",
     "output_type": "stream",
     "text": [
      "Your path is correct\n"
     ]
    }
   ],
   "source": [
    "import cv2 \n",
    "import matplotlib.pyplot as plt \n",
    "\n",
    "image = cv2.imread(os.getcwd() + \"//kpay_second.jpg\")\n",
    "if image is None:\n",
    "    print(\"Your path is incorrect\")\n",
    "else:\n",
    "    print(\"Your path is correct\")"
   ]
  },
  {
   "cell_type": "code",
   "execution_count": 7,
   "id": "917cb0f7",
   "metadata": {},
   "outputs": [
    {
     "data": {
      "text/plain": [
       "<matplotlib.image.AxesImage at 0x1d7792d27d0>"
      ]
     },
     "execution_count": 7,
     "metadata": {},
     "output_type": "execute_result"
    },
    {
     "data": {
      "image/png": "[encoded data removed]",
      "text/plain": [
       "<Figure size 640x480 with 1 Axes>"
      ]
     },
     "metadata": {},
     "output_type": "display_data"
    }
   ],
   "source": [
    "img = cv2.cvtColor(image, cv2.COLOR_BGR2RGB)\n",
    "plt.imshow(img)"
   ]
  },
  {
   "cell_type": "code",
   "execution_count": 8,
   "id": "f8b48b25",
   "metadata": {},
   "outputs": [
    {
     "name": "stderr",
     "output_type": "stream",
     "text": [
      "Neither CUDA nor MPS are available - defaulting to CPU. Note: This module is much faster with a GPU.\n"
     ]
    }
   ],
   "source": [
    "import easyocr\n",
    "reader = easyocr.Reader(['en']) # english"
   ]
  },
  {
   "cell_type": "code",
   "execution_count": 9,
   "id": "14cb2b40",
   "metadata": {},
   "outputs": [
    {
     "name": "stderr",
     "output_type": "stream",
     "text": [
      "C:\\Users\\ASUS\\AppData\\Roaming\\Python\\Python310\\site-packages\\torch\\utils\\data\\dataloader.py:665: UserWarning: 'pin_memory' argument is set as true but no accelerator is found, then device pinned memory won't be used.\n",
      "  warnings.warn(warn_msg)\n"
     ]
    }
   ],
   "source": [
    "results = reader.readtext(img)"
   ]
  },
  {
   "cell_type": "code",
   "execution_count": 10,
   "id": "98b114ec",
   "metadata": {},
   "outputs": [
    {
     "data": {
      "text/plain": [
       "[([[np.int32(78), np.int32(30)],\n",
       "   [np.int32(138), np.int32(30)],\n",
       "   [np.int32(138), np.int32(56)],\n",
       "   [np.int32(78), np.int32(56)]],\n",
       "  '4:41',\n",
       "  np.float64(0.9493680000305176)),\n",
       " ([[np.int32(187), np.int32(241)],\n",
       "   [np.int32(401), np.int32(241)],\n",
       "   [np.int32(401), np.int32(271)],\n",
       "   [np.int32(187), np.int32(271)]],\n",
       "  'Payment Successful',\n",
       "  np.float64(0.9310048157523999)),\n",
       " ([[np.int32(211), np.int32(313)],\n",
       "   [np.int32(329), np.int32(313)],\n",
       "   [np.int32(329), np.int32(357)],\n",
       "   [np.int32(211), np.int32(357)]],\n",
       "  '-1.00',\n",
       "  np.float64(0.8183370510940303)),\n",
       " ([[np.int32(334), np.int32(332)],\n",
       "   [np.int32(378), np.int32(332)],\n",
       "   [np.int32(378), np.int32(356)],\n",
       "   [np.int32(334), np.int32(356)]],\n",
       "  '(Ks)',\n",
       "  np.float64(0.6523976607768347)),\n",
       " ([[np.int32(46), np.int32(448)],\n",
       "   [np.int32(204), np.int32(448)],\n",
       "   [np.int32(204), np.int32(472)],\n",
       "   [np.int32(46), np.int32(472)]],\n",
       "  'Transaction Time',\n",
       "  np.float64(0.7768656197443473)),\n",
       " ([[np.int32(359), np.int32(448)],\n",
       "   [np.int32(552), np.int32(448)],\n",
       "   [np.int32(552), np.int32(474)],\n",
       "   [np.int32(359), np.int32(474)]],\n",
       "  '26/06/2025 16.41.47',\n",
       "  np.float64(0.7983196148908707)),\n",
       " ([[np.int32(44), np.int32(488)],\n",
       "   [np.int32(190), np.int32(488)],\n",
       "   [np.int32(190), np.int32(512)],\n",
       "   [np.int32(44), np.int32(512)]],\n",
       "  'Transaction No.',\n",
       "  np.float64(0.8052327439246311)),\n",
       " ([[np.int32(336), np.int32(488)],\n",
       "   [np.int32(552), np.int32(488)],\n",
       "   [np.int32(552), np.int32(512)],\n",
       "   [np.int32(336), np.int32(512)]],\n",
       "  '01003829040185773114',\n",
       "  np.float64(0.6864587985581561)),\n",
       " ([[np.int32(45), np.int32(527)],\n",
       "   [np.int32(204), np.int32(527)],\n",
       "   [np.int32(204), np.int32(554)],\n",
       "   [np.int32(45), np.int32(554)]],\n",
       "  'Transaction Type',\n",
       "  np.float64(0.9942079765307499)),\n",
       " ([[np.int32(472), np.int32(528)],\n",
       "   [np.int32(552), np.int32(528)],\n",
       "   [np.int32(552), np.int32(552)],\n",
       "   [np.int32(472), np.int32(552)]],\n",
       "  'Transfer',\n",
       "  np.float64(0.999985754323173)),\n",
       " ([[np.int32(44), np.int32(566)],\n",
       "   [np.int32(154), np.int32(566)],\n",
       "   [np.int32(154), np.int32(590)],\n",
       "   [np.int32(44), np.int32(590)]],\n",
       "  'Transfer To',\n",
       "  np.float64(0.9126994892476219)),\n",
       " ([[np.int32(318), np.int32(568)],\n",
       "   [np.int32(552), np.int32(568)],\n",
       "   [np.int32(552), np.int32(592)],\n",
       "   [np.int32(318), np.int32(592)]],\n",
       "  'Ye Myat Lin (******3992)',\n",
       "  np.float64(0.7124856188600495)),\n",
       " ([[np.int32(46), np.int32(606)],\n",
       "   [np.int32(120), np.int32(606)],\n",
       "   [np.int32(120), np.int32(630)],\n",
       "   [np.int32(46), np.int32(630)]],\n",
       "  'Amount',\n",
       "  np.float64(0.9999014590438778)),\n",
       " ([[np.int32(470), np.int32(606)],\n",
       "   [np.int32(552), np.int32(606)],\n",
       "   [np.int32(552), np.int32(630)],\n",
       "   [np.int32(470), np.int32(630)]],\n",
       "  '-1.00 Ks',\n",
       "  np.float64(0.9216986573469729)),\n",
       " ([[np.int32(46), np.int32(646)],\n",
       "   [np.int32(104), np.int32(646)],\n",
       "   [np.int32(104), np.int32(670)],\n",
       "   [np.int32(46), np.int32(670)]],\n",
       "  'Notes',\n",
       "  np.float64(0.9339482382051395)),\n",
       " ([[np.int32(274), np.int32(1088)],\n",
       "   [np.int32(318), np.int32(1088)],\n",
       "   [np.int32(318), np.int32(1116)],\n",
       "   [np.int32(274), np.int32(1116)]],\n",
       "  'OK',\n",
       "  np.float64(0.9806083884319249)),\n",
       " ([[np.int32(202), np.int32(1166)],\n",
       "   [np.int32(388), np.int32(1166)],\n",
       "   [np.int32(388), np.int32(1196)],\n",
       "   [np.int32(202), np.int32(1196)]],\n",
       "  'Save E-receipt',\n",
       "  np.float64(0.99575439389267))]"
      ]
     },
     "execution_count": 10,
     "metadata": {},
     "output_type": "execute_result"
    }
   ],
   "source": [
    "results"
   ]
  },
  {
   "cell_type": "code",
   "execution_count": 12,
   "id": "b27737d7",
   "metadata": {},
   "outputs": [
    {
     "data": {
      "text/plain": [
       "([[np.int32(318), np.int32(568)],\n",
       "  [np.int32(552), np.int32(568)],\n",
       "  [np.int32(552), np.int32(592)],\n",
       "  [np.int32(318), np.int32(592)]],\n",
       " 'Ye Myat Lin (******3992)',\n",
       " np.float64(0.7124856188600495))"
      ]
     },
     "execution_count": 12,
     "metadata": {},
     "output_type": "execute_result"
    }
   ],
   "source": [
    "results[11]"
   ]
  },
  {
   "cell_type": "code",
   "execution_count": 11,
   "id": "2cfa96bc",
   "metadata": {},
   "outputs": [
    {
     "data": {
      "text/plain": [
       "([[np.int32(470), np.int32(606)],\n",
       "  [np.int32(552), np.int32(606)],\n",
       "  [np.int32(552), np.int32(630)],\n",
       "  [np.int32(470), np.int32(630)]],\n",
       " '-1.00 Ks',\n",
       " np.float64(0.9216986573469729))"
      ]
     },
     "execution_count": 11,
     "metadata": {},
     "output_type": "execute_result"
    }
   ],
   "source": [
    "results[13]"
   ]
  },
  {
   "cell_type": "code",
   "execution_count": null,
   "id": "9229b859",
   "metadata": {},
   "outputs": [],
   "source": [
    "r"
   ]
  }
 ],
 "metadata": {
  "kernelspec": {
   "display_name": "ybl_ai",
   "language": "python",
   "name": "python3"
  },
  "language_info": {
   "codemirror_mode": {
    "name": "ipython",
    "version": 3
   },
   "file_extension": ".py",
   "mimetype": "text/x-python",
   "name": "python",
   "nbconvert_exporter": "python",
   "pygments_lexer": "ipython3",
   "version": "3.10.18"
  }
 },
 "nbformat": 4,
 "nbformat_minor": 5
}
